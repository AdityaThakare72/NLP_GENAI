{
 "cells": [
  {
   "cell_type": "code",
   "execution_count": 23,
   "metadata": {},
   "outputs": [],
   "source": [
    "from gensim.models import Word2Vec, KeyedVectors\n",
    "import gensim.downloader as api\n",
    "import gensim"
   ]
  },
  {
   "cell_type": "code",
   "execution_count": 2,
   "metadata": {},
   "outputs": [],
   "source": [
    "# google news corpus is used for training containing 3 billion words\n",
    "# 300 dimensional vectors for 3 million words and phrases"
   ]
  },
  {
   "cell_type": "code",
   "execution_count": 3,
   "metadata": {},
   "outputs": [],
   "source": [
    "word_emb = api.load('word2vec-google-news-300')"
   ]
  },
  {
   "cell_type": "code",
   "execution_count": 4,
   "metadata": {},
   "outputs": [
    {
     "data": {
      "text/plain": [
       "385"
      ]
     },
     "execution_count": 4,
     "metadata": {},
     "output_type": "execute_result"
    }
   ],
   "source": [
    "word_emb.get_index('car')"
   ]
  },
  {
   "cell_type": "code",
   "execution_count": 5,
   "metadata": {},
   "outputs": [
    {
     "data": {
      "text/plain": [
       "(300,)"
      ]
     },
     "execution_count": 5,
     "metadata": {},
     "output_type": "execute_result"
    }
   ],
   "source": [
    "word_emb.get_vector('car').shape"
   ]
  },
  {
   "cell_type": "code",
   "execution_count": 6,
   "metadata": {},
   "outputs": [],
   "source": [
    "word_emb['man'];"
   ]
  },
  {
   "cell_type": "code",
   "execution_count": 7,
   "metadata": {},
   "outputs": [
    {
     "data": {
      "text/plain": [
       "[('woman', 0.7664012908935547),\n",
       " ('boy', 0.6824871301651001),\n",
       " ('teenager', 0.6586930155754089),\n",
       " ('teenage_girl', 0.6147903203964233),\n",
       " ('girl', 0.5921714305877686),\n",
       " ('suspected_purse_snatcher', 0.571636438369751),\n",
       " ('robber', 0.5585119128227234),\n",
       " ('Robbery_suspect', 0.5584409832954407),\n",
       " ('teen_ager', 0.5549196600914001),\n",
       " ('men', 0.5489763021469116)]"
      ]
     },
     "execution_count": 7,
     "metadata": {},
     "output_type": "execute_result"
    }
   ],
   "source": [
    "word_emb.most_similar('man')"
   ]
  },
  {
   "cell_type": "code",
   "execution_count": 8,
   "metadata": {},
   "outputs": [],
   "source": [
    "# so it contains vectors of words "
   ]
  },
  {
   "cell_type": "code",
   "execution_count": 9,
   "metadata": {},
   "outputs": [],
   "source": [
    "# types of word to vec => 1. CBOW   2. Skip-gram"
   ]
  },
  {
   "cell_type": "markdown",
   "metadata": {},
   "source": [
    "# Custom word2vec embeddings"
   ]
  },
  {
   "cell_type": "code",
   "execution_count": 10,
   "metadata": {},
   "outputs": [],
   "source": [
    "import nltk\n",
    "import pandas as pd\n",
    "import numpy as np\n",
    "import os"
   ]
  },
  {
   "cell_type": "code",
   "execution_count": 11,
   "metadata": {},
   "outputs": [],
   "source": [
    "from nltk import sent_tokenize\n",
    "from gensim.utils import simple_preprocess"
   ]
  },
  {
   "cell_type": "code",
   "execution_count": 13,
   "metadata": {},
   "outputs": [],
   "source": [
    "# creating a list to keep the entire data\n",
    "# the data used is game of thrones books (txt files) from kaggle\n",
    "# link -> https://www.kaggle.com/datasets/khulasasndh/game-of-thrones-books\n",
    "story = []"
   ]
  },
  {
   "cell_type": "code",
   "execution_count": 14,
   "metadata": {},
   "outputs": [
    {
     "name": "stdout",
     "output_type": "stream",
     "text": [
      "003ssb.txt\n",
      "001ssb.txt\n",
      "005ssb.txt\n",
      "002ssb.txt\n",
      "004ssb.txt\n"
     ]
    }
   ],
   "source": [
    "# list of text files\n",
    "\n",
    "for file in os.listdir(\"./gotbooks\"):\n",
    "    print(file)"
   ]
  },
  {
   "cell_type": "code",
   "execution_count": 15,
   "metadata": {},
   "outputs": [],
   "source": [
    "folder_path = \"./gotbooks\""
   ]
  },
  {
   "cell_type": "code",
   "execution_count": 18,
   "metadata": {},
   "outputs": [],
   "source": [
    "# function to tokenize, preprocess and store all the files in empty dictionary story\n",
    "\n",
    "def preprocessor(folder_path_of_files):\n",
    "    story= []\n",
    "    for filename in os.listdir(folder_path):\n",
    "        file_path = os.path.join(folder_path, filename)\n",
    "        with open (file_path, encoding= 'unicode_escape') as f:\n",
    "            corpus = f.read()\n",
    "        raw_sent = sent_tokenize(corpus)\n",
    "        # preprocess using simple_preprocess and store in story list\n",
    "        for sent in raw_sent:\n",
    "            story.append(simple_preprocess(sent))\n",
    "            \n",
    "    return story"
   ]
  },
  {
   "cell_type": "code",
   "execution_count": 19,
   "metadata": {},
   "outputs": [],
   "source": [
    "story = preprocessor(folder_path)"
   ]
  },
  {
   "cell_type": "code",
   "execution_count": 20,
   "metadata": {},
   "outputs": [
    {
     "data": {
      "text/plain": [
       "['storm',\n",
       " 'of',\n",
       " 'swords',\n",
       " 'book',\n",
       " 'three',\n",
       " 'of',\n",
       " 'song',\n",
       " 'of',\n",
       " 'ice',\n",
       " 'and',\n",
       " 'fire',\n",
       " 'by',\n",
       " 'george']"
      ]
     },
     "execution_count": 20,
     "metadata": {},
     "output_type": "execute_result"
    }
   ],
   "source": [
    "story[0]"
   ]
  },
  {
   "cell_type": "code",
   "execution_count": 22,
   "metadata": {},
   "outputs": [
    {
     "data": {
      "text/plain": [
       "['with',\n",
       " 'such',\n",
       " 'structure',\n",
       " 'the',\n",
       " 'narrative',\n",
       " 'cannot',\n",
       " 'be',\n",
       " 'strictly',\n",
       " 'sequential',\n",
       " 'sometimes',\n",
       " 'important',\n",
       " 'things',\n",
       " 'are',\n",
       " 'happening',\n",
       " 'simultaneously',\n",
       " 'thousand',\n",
       " 'leagues',\n",
       " 'apart']"
      ]
     },
     "execution_count": 22,
     "metadata": {},
     "output_type": "execute_result"
    }
   ],
   "source": [
    "story[3]"
   ]
  },
  {
   "cell_type": "markdown",
   "metadata": {},
   "source": [
    "#### Build the custom word2vec"
   ]
  },
  {
   "cell_type": "code",
   "execution_count": 39,
   "metadata": {},
   "outputs": [],
   "source": [
    "# using CBOW\n",
    "custom_model = gensim.models.Word2Vec(window= 10, min_count= 5, vector_size= 150,\n",
    "                                      workers = 12, epochs= 5)\n",
    "\n",
    "# min_count => dont capture the senteces with less than 5 words\n",
    "# vector_size => dimensions\n",
    "# by default it uses cbow (sg = 0), if want to use skip-gram set parameter sg = 1\n",
    "# to use more cpu cores during training => workers = no_of_cpu_cores"
   ]
  },
  {
   "cell_type": "code",
   "execution_count": 40,
   "metadata": {},
   "outputs": [
    {
     "name": "stdout",
     "output_type": "stream",
     "text": [
      "18\n"
     ]
    }
   ],
   "source": [
    "# if u want to check how many cpu cores u have\n",
    "import os\n",
    "print(os.cpu_count())"
   ]
  },
  {
   "cell_type": "code",
   "execution_count": 41,
   "metadata": {},
   "outputs": [],
   "source": [
    "# build the vocab\n",
    "custom_model.build_vocab(story)"
   ]
  },
  {
   "cell_type": "code",
   "execution_count": 42,
   "metadata": {},
   "outputs": [
    {
     "data": {
      "text/plain": [
       "145020"
      ]
     },
     "execution_count": 42,
     "metadata": {},
     "output_type": "execute_result"
    }
   ],
   "source": [
    "custom_model.corpus_count\n",
    "# no. of sentences we have"
   ]
  },
  {
   "cell_type": "code",
   "execution_count": 43,
   "metadata": {},
   "outputs": [
    {
     "data": {
      "text/plain": [
       "1725638"
      ]
     },
     "execution_count": 43,
     "metadata": {},
     "output_type": "execute_result"
    }
   ],
   "source": [
    "# no of unique words\n",
    "custom_model.corpus_total_words"
   ]
  },
  {
   "cell_type": "code",
   "execution_count": 44,
   "metadata": {},
   "outputs": [
    {
     "name": "stdout",
     "output_type": "stream",
     "text": [
      "5\n"
     ]
    }
   ],
   "source": [
    "print(custom_model.epochs)"
   ]
  },
  {
   "cell_type": "code",
   "execution_count": 45,
   "metadata": {},
   "outputs": [
    {
     "data": {
      "text/plain": [
       "(6482123, 8628190)"
      ]
     },
     "execution_count": 45,
     "metadata": {},
     "output_type": "execute_result"
    }
   ],
   "source": [
    "# train the model now\n",
    "custom_model.train(story, total_examples=custom_model.corpus_count, epochs = custom_model.epochs)"
   ]
  },
  {
   "cell_type": "code",
   "execution_count": 46,
   "metadata": {},
   "outputs": [
    {
     "data": {
      "text/plain": [
       "[('arryn', 0.7772131562232971),\n",
       " ('brandon', 0.7617887854576111),\n",
       " ('winterfell', 0.7604482173919678),\n",
       " ('greyjoy', 0.7175905704498291),\n",
       " ('robb', 0.7124232649803162),\n",
       " ('bastard', 0.6962007880210876),\n",
       " ('eddard', 0.692389726638794),\n",
       " ('tully', 0.6897363662719727),\n",
       " ('murdered', 0.6841720342636108),\n",
       " ('roose', 0.653350830078125)]"
      ]
     },
     "execution_count": 46,
     "metadata": {},
     "output_type": "execute_result"
    }
   ],
   "source": [
    "# check\n",
    "\n",
    "custom_model.wv.most_similar('stark')"
   ]
  },
  {
   "cell_type": "code",
   "execution_count": 49,
   "metadata": {},
   "outputs": [
    {
     "data": {
      "text/plain": [
       "[('imp', 0.7622819542884827),\n",
       " ('hound', 0.7214922904968262),\n",
       " ('wench', 0.6894556879997253),\n",
       " ('tyrion', 0.6866094470024109),\n",
       " ('varys', 0.6403233408927917),\n",
       " ('question', 0.6388692855834961),\n",
       " ('reek', 0.6375152468681335),\n",
       " ('eunuch', 0.6366840600967407),\n",
       " ('littlefinger', 0.6344404220581055),\n",
       " ('joff', 0.6325963139533997)]"
      ]
     },
     "execution_count": 49,
     "metadata": {},
     "output_type": "execute_result"
    }
   ],
   "source": [
    "custom_model.wv.most_similar('dwarf')"
   ]
  },
  {
   "cell_type": "code",
   "execution_count": 51,
   "metadata": {},
   "outputs": [],
   "source": [
    "custom_model.wv['king'];"
   ]
  },
  {
   "cell_type": "code",
   "execution_count": 52,
   "metadata": {},
   "outputs": [
    {
     "data": {
      "text/plain": [
       "(150,)"
      ]
     },
     "execution_count": 52,
     "metadata": {},
     "output_type": "execute_result"
    }
   ],
   "source": [
    "custom_model.wv['king'].shape"
   ]
  },
  {
   "cell_type": "code",
   "execution_count": 53,
   "metadata": {},
   "outputs": [],
   "source": [
    "# Note: From the data we have not removed the stopswords which we should have"
   ]
  }
 ],
 "metadata": {
  "kernelspec": {
   "display_name": "Python 3",
   "language": "python",
   "name": "python3"
  },
  "language_info": {
   "codemirror_mode": {
    "name": "ipython",
    "version": 3
   },
   "file_extension": ".py",
   "mimetype": "text/x-python",
   "name": "python",
   "nbconvert_exporter": "python",
   "pygments_lexer": "ipython3",
   "version": "3.10.15"
  }
 },
 "nbformat": 4,
 "nbformat_minor": 2
}
